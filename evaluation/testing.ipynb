{
 "nbformat": 4,
 "nbformat_minor": 2,
 "metadata": {
  "language_info": {
   "name": "python",
   "codemirror_mode": {
    "name": "ipython",
    "version": 3
   },
   "version": "3.7.6-final"
  },
  "orig_nbformat": 2,
  "file_extension": ".py",
  "mimetype": "text/x-python",
  "name": "python",
  "npconvert_exporter": "python",
  "pygments_lexer": "ipython3",
  "version": 3,
  "kernelspec": {
   "name": "python37664bit14adc0629e4c4b64913c87fe932f3fcd",
   "display_name": "Python 3.7.6 64-bit"
  }
 },
 "cells": [
  {
   "cell_type": "code",
   "execution_count": 29,
   "metadata": {},
   "outputs": [],
   "source": [
    "import numpy as np\n",
    "import pandas as pd\n",
    "from pymatch import Matcher\n",
    "import sklearn.linear_model"
   ]
  },
  {
   "cell_type": "code",
   "execution_count": 172,
   "metadata": {},
   "outputs": [],
   "source": [
    "def multivariate_df(n_samples, mean, cov):\n",
    "    \n",
    "    data = np.random.multivariate_normal(mean, cov, n_samples)\n",
    "    \n",
    "    cols = col_name_gen(len(mean), 'c')\n",
    "    df = pd.DataFrame(data, columns=cols)\n",
    "    info = {\n",
    "        'distribution': 'Gaussian',\n",
    "        'mean' : mean,\n",
    "        'covariance' : cov,\n",
    "        'num_samples' : n_samples\n",
    "    }\n",
    "    return df, info\n",
    "\n",
    "def col_name_gen(num_cols, common_name):\n",
    "    common_name_list = [common_name]*num_cols\n",
    "    num_string_list = [num_string for num_string in map(\n",
    "        lambda num: str(num), [num for num in range(num_cols)]\n",
    "    )]\n",
    "    res_list = [a + b for a, b in zip(common_name_list, num_string_list)]\n",
    "    return res_list\n",
    "\n",
    "\n",
    "def pMSE(dataframe, ind_var):\n",
    "    #This should be implemented with multiple models chosen by some variable\n",
    "    #For now it will be done with logistic regression as there is an analytical solutionn to the null value.\n",
    "    #ind_var is the name of the indicator variable\n",
    "    model = sklearn.linear_model.LogisticRegression(penalty = 'none').fit(dataframe.drop(ind_var, axis = 1), dataframe[ind_var])\n",
    "    prediction = model.predict_proba(dataframe.drop(ind_var, axis = 1))\n",
    "    c = sum(dataframe[ind_var]==0)/len(dataframe)\n",
    "    pmse = (sum((prediction[:,1] - 0.5)**2))/len(dataframe)\n",
    "    return pmse\n",
    "    \n",
    "def null_pmse_est(dataframe, ind_var, n_iter):\n",
    "    \n",
    "    df = dataframe.copy()\n",
    "    pmse = 0\n",
    "    \n",
    "    for i in range(n_iter):\n",
    "        if (i %5 == 0):\n",
    "            print('estimation run no: ' + str(i)) \n",
    "        df[ind_var] = df[ind_var].sample(frac = 1).reset_index(drop = True)\n",
    "        pmse += pMSE(df, ind_var)\n",
    "        if (i == 1000):\n",
    "            break \n",
    "    pmse /= n_iter\n",
    "    return pmse\n",
    "\n",
    "def df_concat_ind(real_df, gen_df, ind = 'ind'):\n",
    "    \n",
    "    r_df = real_df.copy()\n",
    "    g_df = gen_df.copy()\n",
    "    df = pd.concat((r_df, gen_df), axis=0)\n",
    "    \n",
    "    ind_col = pd.DataFrame(np.ones( (len(df), 1) ) , columns= [ind])\n",
    "    df = pd.concat((df, ind_col), axis = 1)\n",
    "    \n",
    "    return df\n",
    "    \n",
    "        \n"
   ]
  },
  {
   "cell_type": "code",
   "execution_count": 173,
   "metadata": {
    "tags": [
     "outputPrepend",
     "outputPrepend",
     "outputPrepend",
     "outputPrepend",
     "outputPrepend",
     "outputPrepend",
     "outputPrepend",
     "outputPrepend",
     "outputPrepend",
     "outputPrepend",
     "outputPrepend",
     "outputPrepend",
     "outputPrepend",
     "outputPrepend",
     "outputPrepend",
     "outputPrepend",
     "outputPrepend",
     "outputPrepend",
     "outputPrepend",
     "outputPrepend",
     "outputPrepend",
     "outputPrepend",
     "outputPrepend",
     "outputPrepend",
     "outputPrepend",
     "outputPrepend",
     "outputPrepend",
     "outputPrepend",
     "outputPrepend",
     "outputPrepend",
     "outputPrepend",
     "outputPrepend",
     "outputPrepend",
     "outputPrepend",
     "outputPrepend",
     "outputPrepend",
     "outputPrepend",
     "outputPrepend",
     "outputPrepend",
     "outputPrepend",
     "outputPrepend",
     "outputPrepend",
     "outputPrepend",
     "outputPrepend",
     "outputPrepend",
     "outputPrepend",
     "outputPrepend",
     "outputPrepend",
     "outputPrepend",
     "outputPrepend",
     "outputPrepend",
     "outputPrepend",
     "outputPrepend",
     "outputPrepend",
     "outputPrepend",
     "outputPrepend",
     "outputPrepend",
     "outputPrepend",
     "outputPrepend",
     "outputPrepend",
     "outputPrepend",
     "outputPrepend",
     "outputPrepend",
     "outputPrepend",
     "outputPrepend",
     "outputPrepend",
     "outputPrepend",
     "outputPrepend",
     "outputPrepend",
     "outputPrepend",
     "outputPrepend",
     "outputPrepend",
     "outputPrepend",
     "outputPrepend",
     "outputPrepend",
     "outputPrepend",
     "outputPrepend",
     "outputPrepend",
     "outputPrepend",
     "outputPrepend",
     "outputPrepend",
     "outputPrepend",
     "outputPrepend",
     "outputPrepend",
     "outputPrepend",
     "outputPrepend",
     "outputPrepend",
     "outputPrepend",
     "outputPrepend",
     "outputPrepend",
     "outputPrepend",
     "outputPrepend",
     "outputPrepend",
     "outputPrepend",
     "outputPrepend",
     "outputPrepend",
     "outputPrepend",
     "outputPrepend",
     "outputPrepend",
     "outputPrepend",
     "outputPrepend",
     "outputPrepend"
    ]
   },
   "outputs": [
    {
     "output_type": "stream",
     "name": "stdout",
     "text": "estimation run no: 0\nestimation run no: 5\nestimation run no: 10\nestimation run no: 15\nestimation run no: 20\nestimation run no: 25\nestimation run no: 30\nestimation run no: 35\nestimation run no: 40\nestimation run no: 45\nestimation run no: 50\nestimation run no: 55\nestimation run no: 60\nestimation run no: 65\nestimation run no: 70\nestimation run no: 75\nestimation run no: 80\nestimation run no: 85\nestimation run no: 90\nestimation run no: 95\nestimation run no: 100\nestimation run no: 105\nestimation run no: 110\nestimation run no: 115\nestimation run no: 120\nestimation run no: 125\nestimation run no: 130\nestimation run no: 135\nestimation run no: 140\nestimation run no: 145\nestimation run no: 150\nestimation run no: 155\nestimation run no: 160\nestimation run no: 165\nestimation run no: 170\nestimation run no: 175\nestimation run no: 180\nestimation run no: 185\nestimation run no: 190\nestimation run no: 195\nestimation run no: 200\nestimation run no: 205\nestimation run no: 210\nestimation run no: 215\nestimation run no: 220\nestimation run no: 225\nestimation run no: 230\nestimation run no: 235\nestimation run no: 240\nestimation run no: 245\nestimation run no: 250\nestimation run no: 255\nestimation run no: 260\nestimation run no: 265\nestimation run no: 270\nestimation run no: 275\nestimation run no: 280\nestimation run no: 285\nestimation run no: 290\nestimation run no: 295\nestimation run no: 300\nestimation run no: 305\nestimation run no: 310\nestimation run no: 315\nestimation run no: 320\nestimation run no: 325\nestimation run no: 330\nestimation run no: 335\nestimation run no: 340\nestimation run no: 345\nestimation run no: 350\nestimation run no: 355\nestimation run no: 360\nestimation run no: 365\nestimation run no: 370\nestimation run no: 375\nestimation run no: 380\nestimation run no: 385\nestimation run no: 390\nestimation run no: 395\nestimation run no: 400\nestimation run no: 405\nestimation run no: 410\nestimation run no: 415\nestimation run no: 420\nestimation run no: 425\nestimation run no: 430\nestimation run no: 435\nestimation run no: 440\nestimation run no: 445\nestimation run no: 450\nestimation run no: 455\nestimation run no: 460\nestimation run no: 465\nestimation run no: 470\nestimation run no: 475\nestimation run no: 480\nestimation run no: 485\nestimation run no: 490\nestimation run no: 495\nestimation run no: 500\nestimation run no: 505\nestimation run no: 510\nestimation run no: 515\nestimation run no: 520\nestimation run no: 525\nestimation run no: 530\nestimation run no: 535\nestimation run no: 540\nestimation run no: 545\nestimation run no: 550\nestimation run no: 555\nestimation run no: 560\nestimation run no: 565\nestimation run no: 570\nestimation run no: 575\nestimation run no: 580\nestimation run no: 585\nestimation run no: 590\nestimation run no: 595\nestimation run no: 600\nestimation run no: 605\nestimation run no: 610\nestimation run no: 615\nestimation run no: 620\nestimation run no: 625\nestimation run no: 630\nestimation run no: 635\nestimation run no: 640\nestimation run no: 645\nestimation run no: 650\nestimation run no: 655\nestimation run no: 660\nestimation run no: 665\nestimation run no: 670\nestimation run no: 675\nestimation run no: 680\nestimation run no: 685\nestimation run no: 690\nestimation run no: 695\nestimation run no: 700\nestimation run no: 705\nestimation run no: 710\nestimation run no: 715\nestimation run no: 720\nestimation run no: 725\nestimation run no: 730\nestimation run no: 735\nestimation run no: 740\nestimation run no: 745\nestimation run no: 750\nestimation run no: 755\nestimation run no: 760\nestimation run no: 765\nestimation run no: 770\nestimation run no: 775\nestimation run no: 780\nestimation run no: 785\nestimation run no: 790\nestimation run no: 795\nestimation run no: 800\nestimation run no: 805\nestimation run no: 810\nestimation run no: 815\nestimation run no: 820\nestimation run no: 825\nestimation run no: 830\nestimation run no: 835\nestimation run no: 840\nestimation run no: 845\nestimation run no: 850\nestimation run no: 855\nestimation run no: 860\nestimation run no: 865\nestimation run no: 870\nestimation run no: 875\nestimation run no: 880\nestimation run no: 885\nestimation run no: 890\nestimation run no: 895\nestimation run no: 900\nestimation run no: 905\nestimation run no: 910\nestimation run no: 915\nestimation run no: 920\nestimation run no: 925\nestimation run no: 930\nestimation run no: 935\nestimation run no: 940\nestimation run no: 945\nestimation run no: 950\nestimation run no: 955\nestimation run no: 960\nestimation run no: 965\nestimation run no: 970\nestimation run no: 975\nestimation run no: 980\nestimation run no: 985\nestimation run no: 990\nestimation run no: 995\nestimation run no: 1000\nestimation run no: 1005\nestimation run no: 1010\nestimation run no: 1015\nestimation run no: 1020\nestimation run no: 1025\nestimation run no: 1030\nestimation run no: 1035\nestimation run no: 1040\nestimation run no: 1045\nestimation run no: 1050\nestimation run no: 1055\nestimation run no: 1060\nestimation run no: 1065\nestimation run no: 1070\nestimation run no: 1075\nestimation run no: 1080\nestimation run no: 1085\nestimation run no: 1090\nestimation run no: 1095\nestimation run no: 1100\nestimation run no: 1105\nestimation run no: 1110\nestimation run no: 1115\nestimation run no: 1120\nestimation run no: 1125\nestimation run no: 1130\nestimation run no: 1135\nestimation run no: 1140\nestimation run no: 1145\nestimation run no: 1150\nestimation run no: 1155\nestimation run no: 1160\nestimation run no: 1165\nestimation run no: 1170\nestimation run no: 1175\nestimation run no: 1180\nestimation run no: 1185\nestimation run no: 1190\nestimation run no: 1195\nestimation run no: 1200\nestimation run no: 1205\nestimation run no: 1210\nestimation run no: 1215\nestimation run no: 1220\nestimation run no: 1225\nestimation run no: 1230\nestimation run no: 1235\nestimation run no: 1240\nestimation run no: 1245\nestimation run no: 1250\nestimation run no: 1255\nestimation run no: 1260\nestimation run no: 1265\nestimation run no: 1270\nestimation run no: 1275\nestimation run no: 1280\nestimation run no: 1285\nestimation run no: 1290\nestimation run no: 1295\nestimation run no: 1300\nestimation run no: 1305\nestimation run no: 1310\nestimation run no: 1315\nestimation run no: 1320\nestimation run no: 1325\nestimation run no: 1330\nestimation run no: 1335\nestimation run no: 1340\nestimation run no: 1345\nestimation run no: 1350\nestimation run no: 1355\nestimation run no: 1360\nestimation run no: 1365\nestimation run no: 1370\nestimation run no: 1375\nestimation run no: 1380\nestimation run no: 1385\nestimation run no: 1390\nestimation run no: 1395\nestimation run no: 1400\nestimation run no: 1405\nestimation run no: 1410\nestimation run no: 1415\nestimation run no: 1420\nestimation run no: 1425\nestimation run no: 1430\nestimation run no: 1435\nestimation run no: 1440\nestimation run no: 1445\nestimation run no: 1450\nestimation run no: 1455\nestimation run no: 1460\nestimation run no: 1465\nestimation run no: 1470\nestimation run no: 1475\nestimation run no: 1480\nestimation run no: 1485\nestimation run no: 1490\nestimation run no: 1495\nestimation run no: 1500\nestimation run no: 1505\nestimation run no: 1510\nestimation run no: 1515\nestimation run no: 1520\nestimation run no: 1525\nestimation run no: 1530\nestimation run no: 1535\nestimation run no: 1540\nestimation run no: 1545\nestimation run no: 1550\nestimation run no: 1555\nestimation run no: 1560\nestimation run no: 1565\nestimation run no: 1570\nestimation run no: 1575\nestimation run no: 1580\nestimation run no: 1585\nestimation run no: 1590\nestimation run no: 1595\nestimation run no: 1600\nestimation run no: 1605\nestimation run no: 1610\nestimation run no: 1615\nestimation run no: 1620\nestimation run no: 1625\nestimation run no: 1630\nestimation run no: 1635\nestimation run no: 1640\nestimation run no: 1645\nestimation run no: 1650\nestimation run no: 1655\nestimation run no: 1660\nestimation run no: 1665\nestimation run no: 1670\nestimation run no: 1675\nestimation run no: 1680\nestimation run no: 1685\nestimation run no: 1690\nestimation run no: 1695\nestimation run no: 1700\nestimation run no: 1705\nestimation run no: 1710\nestimation run no: 1715\nestimation run no: 1720\nestimation run no: 1725\nestimation run no: 1730\nestimation run no: 1735\nestimation run no: 1740\nestimation run no: 1745\nestimation run no: 1750\nestimation run no: 1755\nestimation run no: 1760\nestimation run no: 1765\nestimation run no: 1770\nestimation run no: 1775\nestimation run no: 1780\nestimation run no: 1785\nestimation run no: 1790\nestimation run no: 1795\nestimation run no: 1800\nestimation run no: 1805\nestimation run no: 1810\nestimation run no: 1815\nestimation run no: 1820\nestimation run no: 1825\nestimation run no: 1830\nestimation run no: 1835\nestimation run no: 1840\nestimation run no: 1845\nestimation run no: 1850\nestimation run no: 1855\nestimation run no: 1860\nestimation run no: 1865\nestimation run no: 1870\nestimation run no: 1875\nestimation run no: 1880\nestimation run no: 1885\nestimation run no: 1890\nestimation run no: 1895\nestimation run no: 1900\nestimation run no: 1905\nestimation run no: 1910\nestimation run no: 1915\nestimation run no: 1920\nestimation run no: 1925\nestimation run no: 1930\nestimation run no: 1935\nestimation run no: 1940\nestimation run no: 1945\nestimation run no: 1950\nestimation run no: 1955\nestimation run no: 1960\nestimation run no: 1965\nestimation run no: 1970\nestimation run no: 1975\nestimation run no: 1980\nestimation run no: 1985\nestimation run no: 1990\nestimation run no: 1995\nestimation run no: 2000\nestimation run no: 2005\nestimation run no: 2010\nestimation run no: 2015\nestimation run no: 2020\nestimation run no: 2025\nestimation run no: 2030\nestimation run no: 2035\nestimation run no: 2040\nestimation run no: 2045\nestimation run no: 2050\nestimation run no: 2055\nestimation run no: 2060\nestimation run no: 2065\nestimation run no: 2070\nestimation run no: 2075\nestimation run no: 2080\nestimation run no: 2085\nestimation run no: 2090\nestimation run no: 2095\nestimation run no: 2100\nestimation run no: 2105\nestimation run no: 2110\nestimation run no: 2115\nestimation run no: 2120\nestimation run no: 2125\nestimation run no: 2130\nestimation run no: 2135\nestimation run no: 2140\nestimation run no: 2145\nestimation run no: 2150\nestimation run no: 2155\nestimation run no: 2160\nestimation run no: 2165\nestimation run no: 2170\nestimation run no: 2175\nestimation run no: 2180\nestimation run no: 2185\nestimation run no: 2190\nestimation run no: 2195\nestimation run no: 2200\nestimation run no: 2205\nestimation run no: 2210\nestimation run no: 2215\nestimation run no: 2220\nestimation run no: 2225\nestimation run no: 2230\nestimation run no: 2235\nestimation run no: 2240\nestimation run no: 2245\nestimation run no: 2250\nestimation run no: 2255\nestimation run no: 2260\nestimation run no: 2265\nestimation run no: 2270\nestimation run no: 2275\nestimation run no: 2280\nestimation run no: 2285\nestimation run no: 2290\nestimation run no: 2295\nestimation run no: 2300\nestimation run no: 2305\nestimation run no: 2310\nestimation run no: 2315\nestimation run no: 2320\nestimation run no: 2325\nestimation run no: 2330\nestimation run no: 2335\nestimation run no: 2340\nestimation run no: 2345\nestimation run no: 2350\nestimation run no: 2355\nestimation run no: 2360\nestimation run no: 2365\nestimation run no: 2370\nestimation run no: 2375\nestimation run no: 2380\nestimation run no: 2385\nestimation run no: 2390\nestimation run no: 2395\nestimation run no: 2400\nestimation run no: 2405\nestimation run no: 2410\nestimation run no: 2415\nestimation run no: 2420\nestimation run no: 2425\nestimation run no: 2430\n"
    },
    {
     "output_type": "error",
     "ename": "KeyboardInterrupt",
     "evalue": "",
     "traceback": [
      "\u001b[1;31m---------------------------------------------------------------------------\u001b[0m",
      "\u001b[1;31mKeyboardInterrupt\u001b[0m                         Traceback (most recent call last)",
      "\u001b[1;32m<ipython-input-173-74a6d7d26c7f>\u001b[0m in \u001b[0;36m<module>\u001b[1;34m\u001b[0m\n\u001b[0;32m      6\u001b[0m \u001b[0mdf\u001b[0m \u001b[1;33m=\u001b[0m \u001b[0mdf\u001b[0m\u001b[1;33m.\u001b[0m\u001b[0mreset_index\u001b[0m\u001b[1;33m(\u001b[0m\u001b[0mdrop\u001b[0m\u001b[1;33m=\u001b[0m\u001b[1;32mTrue\u001b[0m\u001b[1;33m)\u001b[0m\u001b[1;33m\u001b[0m\u001b[1;33m\u001b[0m\u001b[0m\n\u001b[0;32m      7\u001b[0m \u001b[1;33m\u001b[0m\u001b[0m\n\u001b[1;32m----> 8\u001b[1;33m \u001b[0mprint\u001b[0m\u001b[1;33m(\u001b[0m\u001b[0mnull_pmse_est\u001b[0m\u001b[1;33m(\u001b[0m\u001b[0mdf\u001b[0m\u001b[1;33m,\u001b[0m \u001b[1;34m'ind'\u001b[0m\u001b[1;33m,\u001b[0m \u001b[1;36m1000000\u001b[0m\u001b[1;33m)\u001b[0m\u001b[1;33m)\u001b[0m\u001b[1;33m\u001b[0m\u001b[1;33m\u001b[0m\u001b[0m\n\u001b[0m\u001b[0;32m      9\u001b[0m \u001b[0mprint\u001b[0m\u001b[1;33m(\u001b[0m  \u001b[0mpMSE\u001b[0m\u001b[1;33m(\u001b[0m\u001b[0mdf\u001b[0m\u001b[1;33m,\u001b[0m \u001b[1;34m'ind'\u001b[0m\u001b[1;33m)\u001b[0m\u001b[1;33m)\u001b[0m\u001b[1;33m\u001b[0m\u001b[1;33m\u001b[0m\u001b[0m\n",
      "\u001b[1;32m<ipython-input-172-7aade65d3c6c>\u001b[0m in \u001b[0;36mnull_pmse_est\u001b[1;34m(dataframe, ind_var, n_iter)\u001b[0m\n\u001b[0;32m     41\u001b[0m             \u001b[0mprint\u001b[0m\u001b[1;33m(\u001b[0m\u001b[1;34m'estimation run no: '\u001b[0m \u001b[1;33m+\u001b[0m \u001b[0mstr\u001b[0m\u001b[1;33m(\u001b[0m\u001b[0mi\u001b[0m\u001b[1;33m)\u001b[0m\u001b[1;33m)\u001b[0m\u001b[1;33m\u001b[0m\u001b[1;33m\u001b[0m\u001b[0m\n\u001b[0;32m     42\u001b[0m         \u001b[0mdf\u001b[0m\u001b[1;33m[\u001b[0m\u001b[0mind_var\u001b[0m\u001b[1;33m]\u001b[0m \u001b[1;33m=\u001b[0m \u001b[0mdf\u001b[0m\u001b[1;33m[\u001b[0m\u001b[0mind_var\u001b[0m\u001b[1;33m]\u001b[0m\u001b[1;33m.\u001b[0m\u001b[0msample\u001b[0m\u001b[1;33m(\u001b[0m\u001b[0mfrac\u001b[0m \u001b[1;33m=\u001b[0m \u001b[1;36m1\u001b[0m\u001b[1;33m)\u001b[0m\u001b[1;33m.\u001b[0m\u001b[0mreset_index\u001b[0m\u001b[1;33m(\u001b[0m\u001b[0mdrop\u001b[0m \u001b[1;33m=\u001b[0m \u001b[1;32mTrue\u001b[0m\u001b[1;33m)\u001b[0m\u001b[1;33m\u001b[0m\u001b[1;33m\u001b[0m\u001b[0m\n\u001b[1;32m---> 43\u001b[1;33m         \u001b[0mpmse\u001b[0m \u001b[1;33m+=\u001b[0m \u001b[0mpMSE\u001b[0m\u001b[1;33m(\u001b[0m\u001b[0mdf\u001b[0m\u001b[1;33m,\u001b[0m \u001b[0mind_var\u001b[0m\u001b[1;33m)\u001b[0m\u001b[1;33m\u001b[0m\u001b[1;33m\u001b[0m\u001b[0m\n\u001b[0m\u001b[0;32m     44\u001b[0m \u001b[1;33m\u001b[0m\u001b[0m\n\u001b[0;32m     45\u001b[0m     \u001b[0mpmse\u001b[0m \u001b[1;33m/=\u001b[0m \u001b[0mn_iter\u001b[0m\u001b[1;33m\u001b[0m\u001b[1;33m\u001b[0m\u001b[0m\n",
      "\u001b[1;32m<ipython-input-172-7aade65d3c6c>\u001b[0m in \u001b[0;36mpMSE\u001b[1;34m(dataframe, ind_var)\u001b[0m\n\u001b[0;32m     26\u001b[0m     \u001b[1;31m#For now it will be done with logistic regression as there is an analytical solutionn to the null value.\u001b[0m\u001b[1;33m\u001b[0m\u001b[1;33m\u001b[0m\u001b[1;33m\u001b[0m\u001b[0m\n\u001b[0;32m     27\u001b[0m     \u001b[1;31m#ind_var is the name of the indicator variable\u001b[0m\u001b[1;33m\u001b[0m\u001b[1;33m\u001b[0m\u001b[1;33m\u001b[0m\u001b[0m\n\u001b[1;32m---> 28\u001b[1;33m     \u001b[0mmodel\u001b[0m \u001b[1;33m=\u001b[0m \u001b[0msklearn\u001b[0m\u001b[1;33m.\u001b[0m\u001b[0mlinear_model\u001b[0m\u001b[1;33m.\u001b[0m\u001b[0mLogisticRegression\u001b[0m\u001b[1;33m(\u001b[0m\u001b[0mpenalty\u001b[0m \u001b[1;33m=\u001b[0m \u001b[1;34m'none'\u001b[0m\u001b[1;33m)\u001b[0m\u001b[1;33m.\u001b[0m\u001b[0mfit\u001b[0m\u001b[1;33m(\u001b[0m\u001b[0mdataframe\u001b[0m\u001b[1;33m.\u001b[0m\u001b[0mdrop\u001b[0m\u001b[1;33m(\u001b[0m\u001b[0mind_var\u001b[0m\u001b[1;33m,\u001b[0m \u001b[0maxis\u001b[0m \u001b[1;33m=\u001b[0m \u001b[1;36m1\u001b[0m\u001b[1;33m)\u001b[0m\u001b[1;33m,\u001b[0m \u001b[0mdataframe\u001b[0m\u001b[1;33m[\u001b[0m\u001b[0mind_var\u001b[0m\u001b[1;33m]\u001b[0m\u001b[1;33m)\u001b[0m\u001b[1;33m\u001b[0m\u001b[1;33m\u001b[0m\u001b[0m\n\u001b[0m\u001b[0;32m     29\u001b[0m     \u001b[0mprediction\u001b[0m \u001b[1;33m=\u001b[0m \u001b[0mmodel\u001b[0m\u001b[1;33m.\u001b[0m\u001b[0mpredict_proba\u001b[0m\u001b[1;33m(\u001b[0m\u001b[0mdataframe\u001b[0m\u001b[1;33m.\u001b[0m\u001b[0mdrop\u001b[0m\u001b[1;33m(\u001b[0m\u001b[0mind_var\u001b[0m\u001b[1;33m,\u001b[0m \u001b[0maxis\u001b[0m \u001b[1;33m=\u001b[0m \u001b[1;36m1\u001b[0m\u001b[1;33m)\u001b[0m\u001b[1;33m)\u001b[0m\u001b[1;33m\u001b[0m\u001b[1;33m\u001b[0m\u001b[0m\n\u001b[0;32m     30\u001b[0m     \u001b[0mc\u001b[0m \u001b[1;33m=\u001b[0m \u001b[0msum\u001b[0m\u001b[1;33m(\u001b[0m\u001b[0mdataframe\u001b[0m\u001b[1;33m[\u001b[0m\u001b[0mind_var\u001b[0m\u001b[1;33m]\u001b[0m\u001b[1;33m==\u001b[0m\u001b[1;36m0\u001b[0m\u001b[1;33m)\u001b[0m\u001b[1;33m/\u001b[0m\u001b[0mlen\u001b[0m\u001b[1;33m(\u001b[0m\u001b[0mdataframe\u001b[0m\u001b[1;33m)\u001b[0m\u001b[1;33m\u001b[0m\u001b[1;33m\u001b[0m\u001b[0m\n",
      "\u001b[1;32m~\\AppData\\Local\\Programs\\Python\\Python37\\lib\\site-packages\\sklearn\\linear_model\\_logistic.py\u001b[0m in \u001b[0;36mfit\u001b[1;34m(self, X, y, sample_weight)\u001b[0m\n\u001b[0;32m   1526\u001b[0m         X, y = check_X_y(X, y, accept_sparse='csr', dtype=_dtype, order=\"C\",\n\u001b[0;32m   1527\u001b[0m                          accept_large_sparse=solver != 'liblinear')\n\u001b[1;32m-> 1528\u001b[1;33m         \u001b[0mcheck_classification_targets\u001b[0m\u001b[1;33m(\u001b[0m\u001b[0my\u001b[0m\u001b[1;33m)\u001b[0m\u001b[1;33m\u001b[0m\u001b[1;33m\u001b[0m\u001b[0m\n\u001b[0m\u001b[0;32m   1529\u001b[0m         \u001b[0mself\u001b[0m\u001b[1;33m.\u001b[0m\u001b[0mclasses_\u001b[0m \u001b[1;33m=\u001b[0m \u001b[0mnp\u001b[0m\u001b[1;33m.\u001b[0m\u001b[0munique\u001b[0m\u001b[1;33m(\u001b[0m\u001b[0my\u001b[0m\u001b[1;33m)\u001b[0m\u001b[1;33m\u001b[0m\u001b[1;33m\u001b[0m\u001b[0m\n\u001b[0;32m   1530\u001b[0m         \u001b[0mn_samples\u001b[0m\u001b[1;33m,\u001b[0m \u001b[0mn_features\u001b[0m \u001b[1;33m=\u001b[0m \u001b[0mX\u001b[0m\u001b[1;33m.\u001b[0m\u001b[0mshape\u001b[0m\u001b[1;33m\u001b[0m\u001b[1;33m\u001b[0m\u001b[0m\n",
      "\u001b[1;32m~\\AppData\\Local\\Programs\\Python\\Python37\\lib\\site-packages\\sklearn\\utils\\multiclass.py\u001b[0m in \u001b[0;36mcheck_classification_targets\u001b[1;34m(y)\u001b[0m\n\u001b[0;32m    164\u001b[0m     \u001b[0my\u001b[0m \u001b[1;33m:\u001b[0m \u001b[0marray\u001b[0m\u001b[1;33m-\u001b[0m\u001b[0mlike\u001b[0m\u001b[1;33m\u001b[0m\u001b[1;33m\u001b[0m\u001b[0m\n\u001b[0;32m    165\u001b[0m     \"\"\"\n\u001b[1;32m--> 166\u001b[1;33m     \u001b[0my_type\u001b[0m \u001b[1;33m=\u001b[0m \u001b[0mtype_of_target\u001b[0m\u001b[1;33m(\u001b[0m\u001b[0my\u001b[0m\u001b[1;33m)\u001b[0m\u001b[1;33m\u001b[0m\u001b[1;33m\u001b[0m\u001b[0m\n\u001b[0m\u001b[0;32m    167\u001b[0m     if y_type not in ['binary', 'multiclass', 'multiclass-multioutput',\n\u001b[0;32m    168\u001b[0m                       'multilabel-indicator', 'multilabel-sequences']:\n",
      "\u001b[1;32m~\\AppData\\Local\\Programs\\Python\\Python37\\lib\\site-packages\\sklearn\\utils\\multiclass.py\u001b[0m in \u001b[0;36mtype_of_target\u001b[1;34m(y)\u001b[0m\n\u001b[0;32m    285\u001b[0m         \u001b[1;32mreturn\u001b[0m \u001b[1;34m'continuous'\u001b[0m \u001b[1;33m+\u001b[0m \u001b[0msuffix\u001b[0m\u001b[1;33m\u001b[0m\u001b[1;33m\u001b[0m\u001b[0m\n\u001b[0;32m    286\u001b[0m \u001b[1;33m\u001b[0m\u001b[0m\n\u001b[1;32m--> 287\u001b[1;33m     \u001b[1;32mif\u001b[0m \u001b[1;33m(\u001b[0m\u001b[0mlen\u001b[0m\u001b[1;33m(\u001b[0m\u001b[0mnp\u001b[0m\u001b[1;33m.\u001b[0m\u001b[0munique\u001b[0m\u001b[1;33m(\u001b[0m\u001b[0my\u001b[0m\u001b[1;33m)\u001b[0m\u001b[1;33m)\u001b[0m \u001b[1;33m>\u001b[0m \u001b[1;36m2\u001b[0m\u001b[1;33m)\u001b[0m \u001b[1;32mor\u001b[0m \u001b[1;33m(\u001b[0m\u001b[0my\u001b[0m\u001b[1;33m.\u001b[0m\u001b[0mndim\u001b[0m \u001b[1;33m>=\u001b[0m \u001b[1;36m2\u001b[0m \u001b[1;32mand\u001b[0m \u001b[0mlen\u001b[0m\u001b[1;33m(\u001b[0m\u001b[0my\u001b[0m\u001b[1;33m[\u001b[0m\u001b[1;36m0\u001b[0m\u001b[1;33m]\u001b[0m\u001b[1;33m)\u001b[0m \u001b[1;33m>\u001b[0m \u001b[1;36m1\u001b[0m\u001b[1;33m)\u001b[0m\u001b[1;33m:\u001b[0m\u001b[1;33m\u001b[0m\u001b[1;33m\u001b[0m\u001b[0m\n\u001b[0m\u001b[0;32m    288\u001b[0m         \u001b[1;32mreturn\u001b[0m \u001b[1;34m'multiclass'\u001b[0m \u001b[1;33m+\u001b[0m \u001b[0msuffix\u001b[0m  \u001b[1;31m# [1, 2, 3] or [[1., 2., 3]] or [[1, 2]]\u001b[0m\u001b[1;33m\u001b[0m\u001b[1;33m\u001b[0m\u001b[0m\n\u001b[0;32m    289\u001b[0m     \u001b[1;32melse\u001b[0m\u001b[1;33m:\u001b[0m\u001b[1;33m\u001b[0m\u001b[1;33m\u001b[0m\u001b[0m\n",
      "\u001b[1;32m<__array_function__ internals>\u001b[0m in \u001b[0;36munique\u001b[1;34m(*args, **kwargs)\u001b[0m\n",
      "\u001b[1;32m~\\AppData\\Local\\Programs\\Python\\Python37\\lib\\site-packages\\numpy\\lib\\arraysetops.py\u001b[0m in \u001b[0;36munique\u001b[1;34m(ar, return_index, return_inverse, return_counts, axis)\u001b[0m\n\u001b[0;32m    261\u001b[0m     \u001b[0mar\u001b[0m \u001b[1;33m=\u001b[0m \u001b[0mnp\u001b[0m\u001b[1;33m.\u001b[0m\u001b[0masanyarray\u001b[0m\u001b[1;33m(\u001b[0m\u001b[0mar\u001b[0m\u001b[1;33m)\u001b[0m\u001b[1;33m\u001b[0m\u001b[1;33m\u001b[0m\u001b[0m\n\u001b[0;32m    262\u001b[0m     \u001b[1;32mif\u001b[0m \u001b[0maxis\u001b[0m \u001b[1;32mis\u001b[0m \u001b[1;32mNone\u001b[0m\u001b[1;33m:\u001b[0m\u001b[1;33m\u001b[0m\u001b[1;33m\u001b[0m\u001b[0m\n\u001b[1;32m--> 263\u001b[1;33m         \u001b[0mret\u001b[0m \u001b[1;33m=\u001b[0m \u001b[0m_unique1d\u001b[0m\u001b[1;33m(\u001b[0m\u001b[0mar\u001b[0m\u001b[1;33m,\u001b[0m \u001b[0mreturn_index\u001b[0m\u001b[1;33m,\u001b[0m \u001b[0mreturn_inverse\u001b[0m\u001b[1;33m,\u001b[0m \u001b[0mreturn_counts\u001b[0m\u001b[1;33m)\u001b[0m\u001b[1;33m\u001b[0m\u001b[1;33m\u001b[0m\u001b[0m\n\u001b[0m\u001b[0;32m    264\u001b[0m         \u001b[1;32mreturn\u001b[0m \u001b[0m_unpack_tuple\u001b[0m\u001b[1;33m(\u001b[0m\u001b[0mret\u001b[0m\u001b[1;33m)\u001b[0m\u001b[1;33m\u001b[0m\u001b[1;33m\u001b[0m\u001b[0m\n\u001b[0;32m    265\u001b[0m \u001b[1;33m\u001b[0m\u001b[0m\n",
      "\u001b[1;32m~\\AppData\\Local\\Programs\\Python\\Python37\\lib\\site-packages\\numpy\\lib\\arraysetops.py\u001b[0m in \u001b[0;36m_unique1d\u001b[1;34m(ar, return_index, return_inverse, return_counts)\u001b[0m\n\u001b[0;32m    309\u001b[0m         \u001b[0maux\u001b[0m \u001b[1;33m=\u001b[0m \u001b[0mar\u001b[0m\u001b[1;33m[\u001b[0m\u001b[0mperm\u001b[0m\u001b[1;33m]\u001b[0m\u001b[1;33m\u001b[0m\u001b[1;33m\u001b[0m\u001b[0m\n\u001b[0;32m    310\u001b[0m     \u001b[1;32melse\u001b[0m\u001b[1;33m:\u001b[0m\u001b[1;33m\u001b[0m\u001b[1;33m\u001b[0m\u001b[0m\n\u001b[1;32m--> 311\u001b[1;33m         \u001b[0mar\u001b[0m\u001b[1;33m.\u001b[0m\u001b[0msort\u001b[0m\u001b[1;33m(\u001b[0m\u001b[1;33m)\u001b[0m\u001b[1;33m\u001b[0m\u001b[1;33m\u001b[0m\u001b[0m\n\u001b[0m\u001b[0;32m    312\u001b[0m         \u001b[0maux\u001b[0m \u001b[1;33m=\u001b[0m \u001b[0mar\u001b[0m\u001b[1;33m\u001b[0m\u001b[1;33m\u001b[0m\u001b[0m\n\u001b[0;32m    313\u001b[0m     \u001b[0mmask\u001b[0m \u001b[1;33m=\u001b[0m \u001b[0mnp\u001b[0m\u001b[1;33m.\u001b[0m\u001b[0mempty\u001b[0m\u001b[1;33m(\u001b[0m\u001b[0maux\u001b[0m\u001b[1;33m.\u001b[0m\u001b[0mshape\u001b[0m\u001b[1;33m,\u001b[0m \u001b[0mdtype\u001b[0m\u001b[1;33m=\u001b[0m\u001b[0mnp\u001b[0m\u001b[1;33m.\u001b[0m\u001b[0mbool_\u001b[0m\u001b[1;33m)\u001b[0m\u001b[1;33m\u001b[0m\u001b[1;33m\u001b[0m\u001b[0m\n",
      "\u001b[1;31mKeyboardInterrupt\u001b[0m: "
     ]
    }
   ],
   "source": [
    "\n",
    "testing_df, info_1 = multivariate_df(100, [0,0], np.eye(2))\n",
    "df2, info_2 = multivariate_df(100, [1,1], [[1,0.5],[0.5,1]])\n",
    "testing_df = pd.concat([testing_df, pd.DataFrame(np.ones(len(testing_df)), columns = ['ind'])], axis = 1) \n",
    "df2 = pd.concat([df2, pd.DataFrame(np.zeros(len(df2)), columns = ['ind'])], axis = 1) \n",
    "df = pd.concat([testing_df, df2])\n",
    "df = df.reset_index(drop=True)\n",
    "\n",
    "print(null_pmse_est(df, 'ind', 1000000))\n",
    "print(  pMSE(df, 'ind'))"
   ]
  },
  {
   "cell_type": "code",
   "execution_count": 160,
   "metadata": {},
   "outputs": [
    {
     "output_type": "execute_result",
     "data": {
      "text/plain": "          c0        c1  ind\n0   0.658014  0.565689  1.0\n1   0.139290  0.802943  0.0\n2   2.192360 -0.230403  1.0\n3  -0.212145  0.100580  1.0\n4  -0.190139 -0.972706  0.0\n5   0.824050 -0.254794  1.0\n6  -0.145733  0.920950  0.0\n7  -2.314750 -1.147806  0.0\n8  -0.319632  0.168714  1.0\n9   0.039004 -0.790089  1.0\n10 -0.308968  1.284921  1.0\n11  2.767137  1.938549  0.0\n12  0.445092 -0.331590  0.0\n13  2.457036  2.580513  0.0\n14  1.914497  2.551304  0.0\n15  2.188625  1.516032  1.0\n16  1.458743  0.587824  0.0\n17  1.708015  2.858078  1.0\n18  1.157366  1.258200  1.0\n19  1.934929  1.788241  0.0",
      "text/html": "<div>\n<style scoped>\n    .dataframe tbody tr th:only-of-type {\n        vertical-align: middle;\n    }\n\n    .dataframe tbody tr th {\n        vertical-align: top;\n    }\n\n    .dataframe thead th {\n        text-align: right;\n    }\n</style>\n<table border=\"1\" class=\"dataframe\">\n  <thead>\n    <tr style=\"text-align: right;\">\n      <th></th>\n      <th>c0</th>\n      <th>c1</th>\n      <th>ind</th>\n    </tr>\n  </thead>\n  <tbody>\n    <tr>\n      <th>0</th>\n      <td>0.658014</td>\n      <td>0.565689</td>\n      <td>1.0</td>\n    </tr>\n    <tr>\n      <th>1</th>\n      <td>0.139290</td>\n      <td>0.802943</td>\n      <td>0.0</td>\n    </tr>\n    <tr>\n      <th>2</th>\n      <td>2.192360</td>\n      <td>-0.230403</td>\n      <td>1.0</td>\n    </tr>\n    <tr>\n      <th>3</th>\n      <td>-0.212145</td>\n      <td>0.100580</td>\n      <td>1.0</td>\n    </tr>\n    <tr>\n      <th>4</th>\n      <td>-0.190139</td>\n      <td>-0.972706</td>\n      <td>0.0</td>\n    </tr>\n    <tr>\n      <th>5</th>\n      <td>0.824050</td>\n      <td>-0.254794</td>\n      <td>1.0</td>\n    </tr>\n    <tr>\n      <th>6</th>\n      <td>-0.145733</td>\n      <td>0.920950</td>\n      <td>0.0</td>\n    </tr>\n    <tr>\n      <th>7</th>\n      <td>-2.314750</td>\n      <td>-1.147806</td>\n      <td>0.0</td>\n    </tr>\n    <tr>\n      <th>8</th>\n      <td>-0.319632</td>\n      <td>0.168714</td>\n      <td>1.0</td>\n    </tr>\n    <tr>\n      <th>9</th>\n      <td>0.039004</td>\n      <td>-0.790089</td>\n      <td>1.0</td>\n    </tr>\n    <tr>\n      <th>10</th>\n      <td>-0.308968</td>\n      <td>1.284921</td>\n      <td>1.0</td>\n    </tr>\n    <tr>\n      <th>11</th>\n      <td>2.767137</td>\n      <td>1.938549</td>\n      <td>0.0</td>\n    </tr>\n    <tr>\n      <th>12</th>\n      <td>0.445092</td>\n      <td>-0.331590</td>\n      <td>0.0</td>\n    </tr>\n    <tr>\n      <th>13</th>\n      <td>2.457036</td>\n      <td>2.580513</td>\n      <td>0.0</td>\n    </tr>\n    <tr>\n      <th>14</th>\n      <td>1.914497</td>\n      <td>2.551304</td>\n      <td>0.0</td>\n    </tr>\n    <tr>\n      <th>15</th>\n      <td>2.188625</td>\n      <td>1.516032</td>\n      <td>1.0</td>\n    </tr>\n    <tr>\n      <th>16</th>\n      <td>1.458743</td>\n      <td>0.587824</td>\n      <td>0.0</td>\n    </tr>\n    <tr>\n      <th>17</th>\n      <td>1.708015</td>\n      <td>2.858078</td>\n      <td>1.0</td>\n    </tr>\n    <tr>\n      <th>18</th>\n      <td>1.157366</td>\n      <td>1.258200</td>\n      <td>1.0</td>\n    </tr>\n    <tr>\n      <th>19</th>\n      <td>1.934929</td>\n      <td>1.788241</td>\n      <td>0.0</td>\n    </tr>\n  </tbody>\n</table>\n</div>"
     },
     "metadata": {},
     "execution_count": 160
    }
   ],
   "source": [
    "df.loc[:,'ind'] = df.loc[:,'ind'].sample(frac=1).reset_index(drop= True)\n",
    "df\n",
    ""
   ]
  },
  {
   "cell_type": "code",
   "execution_count": 19,
   "metadata": {},
   "outputs": [],
   "source": [
    "\n",
    "\n",
    "\n",
    "# testing_df, info_1 = multivariate_df(100, [0,0], np.eye(2))\n",
    "# df2, info_2 = multivariate_df(100, [0,0], [[1,0.5],[0.5,1]])\n",
    "# testing_df = pd.concat([testing_df, pd.DataFrame(np.ones(len(testing_df)), columns = ['ind'])], axis = 1) \n",
    "# df2 = pd.concat([df2, pd.DataFrame(np.zeros(len(df2)), columns = ['ind'])], axis = 1) \n",
    "# df_control = pd.concat([testing_df, df2])\n",
    "# df_control = df.sample(frac = 1)\n",
    "# df_control = df.reset_index(drop = True)\n",
    "\n",
    "test = df[df['ind'] == 1]\n",
    "control = df[df['ind'] == 0]\n"
   ]
  },
  {
   "cell_type": "code",
   "execution_count": 20,
   "metadata": {},
   "outputs": [
    {
     "output_type": "stream",
     "name": "stdout",
     "text": "Formula:\nind ~ c0+c1\nn majority: 100\nn minority: 100\n"
    }
   ],
   "source": [
    "\n",
    "m = Matcher.Matcher(test, control, 'ind')"
   ]
  },
  {
   "cell_type": "code",
   "execution_count": 18,
   "metadata": {},
   "outputs": [
    {
     "output_type": "stream",
     "name": "stdout",
     "text": "Fitting Models on Balanced Samples: 1\\100Error: Unable to coerce to Series, length must be 1: given 200\nFitting Models on Balanced Samples: 1\\100Error: Unable to coerce to Series, length must be 1: given 200\nFitting Models on Balanced Samples: 1\\100Error: Unable to coerce to Series, length must be 1: given 200\nFitting Models on Balanced Samples: 1\\100Error: Unable to coerce to Series, length must be 1: given 200\nFitting Models on Balanced Samples: 1\\100Error: Unable to coerce to Series, length must be 1: given 200\n\nAverage Accuracy: nan%\n"
    }
   ],
   "source": [
    "m.fit_scores(balance=True, nmodels = 100)"
   ]
  },
  {
   "cell_type": "code",
   "execution_count": null,
   "metadata": {},
   "outputs": [],
   "source": []
  }
 ]
}